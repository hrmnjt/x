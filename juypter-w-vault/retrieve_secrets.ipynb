{
 "cells": [
  {
   "cell_type": "code",
   "execution_count": 1,
   "metadata": {},
   "outputs": [
    {
     "name": "stdout",
     "output_type": "stream",
     "text": [
      "{'database': 'DATABASE', 'host': 'HOST', 'password': 'PASSWORD', 'port': 'PORT', 'username': 'USERNAME'}\n"
     ]
    }
   ],
   "source": [
    "import hvac\n",
    "import sys\n",
    "\n",
    "client = hvac.Client(\n",
    "    url='http://127.0.0.1:8200',\n",
    "    token='dev-only-token',\n",
    ")\n",
    "\n",
    "# Reading a secret\n",
    "read_response = client.secrets.kv.read_secret_version(path='production_postgres')\n",
    "\n",
    "password = read_response['data']['data']\n",
    "\n",
    "print(password)\n"
   ]
  },
  {
   "cell_type": "code",
   "execution_count": null,
   "metadata": {},
   "outputs": [],
   "source": []
  }
 ],
 "metadata": {
  "kernelspec": {
   "display_name": "Python 3",
   "language": "python",
   "name": "python3"
  },
  "language_info": {
   "codemirror_mode": {
    "name": "ipython",
    "version": 3
   },
   "file_extension": ".py",
   "mimetype": "text/x-python",
   "name": "python",
   "nbconvert_exporter": "python",
   "pygments_lexer": "ipython3",
   "version": "3.10.6"
  },
  "vscode": {
   "interpreter": {
    "hash": "cf361c1b8b26e4d474119b0ab5ae0b6e1e597766726a23de02b4233fdf9372f8"
   }
  }
 },
 "nbformat": 4,
 "nbformat_minor": 2
}
